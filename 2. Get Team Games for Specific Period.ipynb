{
 "cells": [
  {
   "cell_type": "markdown",
   "metadata": {},
   "source": [
    "Collecting Info on A Specific Teams Games Over a Specific Period\n",
    "===\n",
    "\n",
    "This vignette shows you how to collect gameids for a specific team during a specific time and aggregate corresponding box score information. \n",
    "\n",
    "Specifically, it will walk you through collecting information on all Phoenix Suns games that took place during December and January of the 2006-07 season."
   ]
  },
  {
   "cell_type": "code",
   "execution_count": 68,
   "metadata": {
    "collapsed": false,
    "scrolled": true
   },
   "outputs": [
    {
     "data": {
      "text/plain": [
       "'1.0.1'"
      ]
     },
     "execution_count": 68,
     "metadata": {},
     "output_type": "execute_result"
    }
   ],
   "source": [
    "import numpy as np\n",
    "import goldsberry\n",
    "import pandas as pd\n",
    "from datetime import datetime\n",
    "pd.set_option(\"display.max_columns\",50) # Change Pandas Display Options\n",
    "goldsberry.__version__"
   ]
  },
  {
   "cell_type": "code",
   "execution_count": 69,
   "metadata": {
    "collapsed": false
   },
   "outputs": [
    {
     "data": {
      "text/html": [
       "<div>\n",
       "<table border=\"1\" class=\"dataframe\">\n",
       "  <thead>\n",
       "    <tr style=\"text-align: right;\">\n",
       "      <th></th>\n",
       "      <th>TEAM_NAME</th>\n",
       "      <th>MATCHUP</th>\n",
       "      <th>PTS</th>\n",
       "      <th>PLUS_MINUS</th>\n",
       "    </tr>\n",
       "  </thead>\n",
       "  <tbody>\n",
       "    <tr>\n",
       "      <th>0</th>\n",
       "      <td>Minnesota Timberwolves</td>\n",
       "      <td>MIN vs. NOP</td>\n",
       "      <td>144</td>\n",
       "      <td>35</td>\n",
       "    </tr>\n",
       "    <tr>\n",
       "      <th>1</th>\n",
       "      <td>Orlando Magic</td>\n",
       "      <td>ORL vs. BKN</td>\n",
       "      <td>139</td>\n",
       "      <td>34</td>\n",
       "    </tr>\n",
       "    <tr>\n",
       "      <th>2</th>\n",
       "      <td>Detroit Pistons</td>\n",
       "      <td>DET @ CHI</td>\n",
       "      <td>147</td>\n",
       "      <td>3</td>\n",
       "    </tr>\n",
       "    <tr>\n",
       "      <th>3</th>\n",
       "      <td>Golden State Warriors</td>\n",
       "      <td>GSW @ ORL</td>\n",
       "      <td>130</td>\n",
       "      <td>16</td>\n",
       "    </tr>\n",
       "    <tr>\n",
       "      <th>4</th>\n",
       "      <td>Sacramento Kings</td>\n",
       "      <td>SAC vs. PHX</td>\n",
       "      <td>142</td>\n",
       "      <td>23</td>\n",
       "    </tr>\n",
       "  </tbody>\n",
       "</table>\n",
       "</div>"
      ],
      "text/plain": [
       "<div>\n",
       "<table border=\"1\" class=\"dataframe\">\n",
       "  <thead>\n",
       "    <tr style=\"text-align: right;\">\n",
       "      <th></th>\n",
       "      <th>TEAM_NAME</th>\n",
       "      <th>MATCHUP</th>\n",
       "      <th>PTS</th>\n",
       "      <th>PLUS_MINUS</th>\n",
       "    </tr>\n",
       "  </thead>\n",
       "  <tbody>\n",
       "    <tr>\n",
       "      <th>0</th>\n",
       "      <td>Minnesota Timberwolves</td>\n",
       "      <td>MIN vs. NOP</td>\n",
       "      <td>144</td>\n",
       "      <td>35</td>\n",
       "    </tr>\n",
       "    <tr>\n",
       "      <th>1</th>\n",
       "      <td>Orlando Magic</td>\n",
       "      <td>ORL vs. BKN</td>\n",
       "      <td>139</td>\n",
       "      <td>34</td>\n",
       "    </tr>\n",
       "    <tr>\n",
       "      <th>2</th>\n",
       "      <td>Detroit Pistons</td>\n",
       "      <td>DET @ CHI</td>\n",
       "      <td>147</td>\n",
       "      <td>3</td>\n",
       "    </tr>\n",
       "    <tr>\n",
       "      <th>3</th>\n",
       "      <td>Golden State Warriors</td>\n",
       "      <td>GSW @ ORL</td>\n",
       "      <td>130</td>\n",
       "      <td>16</td>\n",
       "    </tr>\n",
       "    <tr>\n",
       "      <th>4</th>\n",
       "      <td>Sacramento Kings</td>\n",
       "      <td>SAC vs. PHX</td>\n",
       "      <td>142</td>\n",
       "      <td>23</td>\n",
       "    </tr>\n",
       "  </tbody>\n",
       "</table>\n",
       "</div>"
      ]
     },
     "execution_count": 69,
     "metadata": {},
     "output_type": "execute_result"
    }
   ],
   "source": [
    "gameids = goldsberry.GameIDs()\n",
    "gameids2015 = pd.DataFrame(gameids.game_list())\n",
    "gameids2015.head(n=5)[[\"TEAM_NAME\",\"MATCHUP\",\"PTS\",\"PLUS_MINUS\"]]\n",
    "# gameids2015.columns.values\n",
    "\n",
    "# list(gameids2015)"
   ]
  },
  {
   "cell_type": "markdown",
   "metadata": {},
   "source": [
    "Like the PlayerList() class, the GameIDs() class defaults to the current season. If we want the 2006-07 season, we need to identify and change the proper parameters. We can see the available parameters to set by printing the `api_params` attribute."
   ]
  },
  {
   "cell_type": "code",
   "execution_count": 70,
   "metadata": {
    "collapsed": false
   },
   "outputs": [
    {
     "data": {
      "text/plain": [
       "{'Direction': 'DESC',\n 'LeagueID': '00',\n 'PlayerOrTeam': 'T',\n 'Season': '2015-16',\n 'SeasonType': 'Regular Season',\n 'Sorter': 'FGM'}"
      ]
     },
     "execution_count": 70,
     "metadata": {},
     "output_type": "execute_result"
    }
   ],
   "source": [
    "gameids.api_params"
   ]
  },
  {
   "cell_type": "markdown",
   "metadata": {},
   "source": [
    "From there, we can see we should set the `Season` value to `2006-07`. Once we set the parameter, we need to get new data and then save the new data as a data frame to a new object."
   ]
  },
  {
   "cell_type": "code",
   "execution_count": 71,
   "metadata": {
    "collapsed": false
   },
   "outputs": [
    {
     "data": {
      "text/plain": [
       "0    2017-01-28\n1    2017-03-04\n2    2017-02-10\n3    2017-01-08\n4    2016-12-10\nName: GAME_DATE, dtype: object"
      ]
     },
     "execution_count": 71,
     "metadata": {},
     "output_type": "execute_result"
    }
   ],
   "source": [
    "gameids.get_new_data(Season='2016-17',PlayerOrTeam = \"T\")\n",
    "gameids._set_api_parameters(Sorter = \"GAME_DATE\")\n",
    "gameids2017 = pd.DataFrame(gameids.game_list())\n",
    "gameids2017.head()[\"GAME_DATE\"]"
   ]
  },
  {
   "cell_type": "markdown",
   "metadata": {},
   "source": [
    "A quick filter for team names that contain 'Suns' returns all games for the Suns for the 2006-07 season"
   ]
  },
  {
   "cell_type": "code",
   "execution_count": 72,
   "metadata": {
    "collapsed": false,
    "scrolled": true
   },
   "outputs": [
    {
     "data": {
      "text/html": [
       "<div>\n",
       "<table border=\"1\" class=\"dataframe\">\n",
       "  <thead>\n",
       "    <tr style=\"text-align: right;\">\n",
       "      <th></th>\n",
       "      <th>AST</th>\n",
       "      <th>BLK</th>\n",
       "      <th>DREB</th>\n",
       "      <th>FG3A</th>\n",
       "      <th>FG3M</th>\n",
       "      <th>FG3_PCT</th>\n",
       "      <th>FGA</th>\n",
       "      <th>FGM</th>\n",
       "      <th>FG_PCT</th>\n",
       "      <th>FTA</th>\n",
       "      <th>FTM</th>\n",
       "      <th>FT_PCT</th>\n",
       "      <th>GAME_DATE</th>\n",
       "      <th>GAME_ID</th>\n",
       "      <th>MATCHUP</th>\n",
       "      <th>MIN</th>\n",
       "      <th>OREB</th>\n",
       "      <th>PF</th>\n",
       "      <th>PLUS_MINUS</th>\n",
       "      <th>PTS</th>\n",
       "      <th>REB</th>\n",
       "      <th>SEASON_ID</th>\n",
       "      <th>STL</th>\n",
       "      <th>TEAM_ABBREVIATION</th>\n",
       "      <th>TEAM_ID</th>\n",
       "      <th>TEAM_NAME</th>\n",
       "      <th>TOV</th>\n",
       "      <th>VIDEO_AVAILABLE</th>\n",
       "      <th>WL</th>\n",
       "    </tr>\n",
       "  </thead>\n",
       "  <tbody>\n",
       "    <tr>\n",
       "      <th>54</th>\n",
       "      <td>24</td>\n",
       "      <td>2</td>\n",
       "      <td>30</td>\n",
       "      <td>23</td>\n",
       "      <td>7</td>\n",
       "      <td>0.304</td>\n",
       "      <td>92</td>\n",
       "      <td>49</td>\n",
       "      <td>0.533</td>\n",
       "      <td>24</td>\n",
       "      <td>13</td>\n",
       "      <td>0.542</td>\n",
       "      <td>2017-03-30</td>\n",
       "      <td>0021601124</td>\n",
       "      <td>PHX vs. LAC</td>\n",
       "      <td>240</td>\n",
       "      <td>13</td>\n",
       "      <td>27</td>\n",
       "      <td>-6</td>\n",
       "      <td>118</td>\n",
       "      <td>43</td>\n",
       "      <td>22016</td>\n",
       "      <td>6</td>\n",
       "      <td>PHX</td>\n",
       "      <td>1610612756</td>\n",
       "      <td>Phoenix Suns</td>\n",
       "      <td>14</td>\n",
       "      <td>1</td>\n",
       "      <td>L</td>\n",
       "    </tr>\n",
       "    <tr>\n",
       "      <th>65</th>\n",
       "      <td>27</td>\n",
       "      <td>6</td>\n",
       "      <td>35</td>\n",
       "      <td>24</td>\n",
       "      <td>8</td>\n",
       "      <td>0.333</td>\n",
       "      <td>93</td>\n",
       "      <td>49</td>\n",
       "      <td>0.527</td>\n",
       "      <td>25</td>\n",
       "      <td>15</td>\n",
       "      <td>0.600</td>\n",
       "      <td>2017-02-24</td>\n",
       "      <td>0021600859</td>\n",
       "      <td>PHX @ CHI</td>\n",
       "      <td>265</td>\n",
       "      <td>8</td>\n",
       "      <td>23</td>\n",
       "      <td>-7</td>\n",
       "      <td>121</td>\n",
       "      <td>43</td>\n",
       "      <td>22016</td>\n",
       "      <td>8</td>\n",
       "      <td>PHX</td>\n",
       "      <td>1610612756</td>\n",
       "      <td>Phoenix Suns</td>\n",
       "      <td>19</td>\n",
       "      <td>1</td>\n",
       "      <td>L</td>\n",
       "    </tr>\n",
       "    <tr>\n",
       "      <th>67</th>\n",
       "      <td>32</td>\n",
       "      <td>10</td>\n",
       "      <td>47</td>\n",
       "      <td>24</td>\n",
       "      <td>10</td>\n",
       "      <td>0.417</td>\n",
       "      <td>88</td>\n",
       "      <td>49</td>\n",
       "      <td>0.557</td>\n",
       "      <td>34</td>\n",
       "      <td>29</td>\n",
       "      <td>0.853</td>\n",
       "      <td>2017-02-15</td>\n",
       "      <td>0021600844</td>\n",
       "      <td>PHX vs. LAL</td>\n",
       "      <td>240</td>\n",
       "      <td>12</td>\n",
       "      <td>20</td>\n",
       "      <td>36</td>\n",
       "      <td>137</td>\n",
       "      <td>59</td>\n",
       "      <td>22016</td>\n",
       "      <td>7</td>\n",
       "      <td>PHX</td>\n",
       "      <td>1610612756</td>\n",
       "      <td>Phoenix Suns</td>\n",
       "      <td>15</td>\n",
       "      <td>1</td>\n",
       "      <td>W</td>\n",
       "    </tr>\n",
       "    <tr>\n",
       "      <th>90</th>\n",
       "      <td>25</td>\n",
       "      <td>8</td>\n",
       "      <td>30</td>\n",
       "      <td>19</td>\n",
       "      <td>8</td>\n",
       "      <td>0.421</td>\n",
       "      <td>95</td>\n",
       "      <td>48</td>\n",
       "      <td>0.505</td>\n",
       "      <td>13</td>\n",
       "      <td>11</td>\n",
       "      <td>0.846</td>\n",
       "      <td>2017-02-10</td>\n",
       "      <td>0021600807</td>\n",
       "      <td>PHX vs. CHI</td>\n",
       "      <td>240</td>\n",
       "      <td>13</td>\n",
       "      <td>18</td>\n",
       "      <td>18</td>\n",
       "      <td>115</td>\n",
       "      <td>43</td>\n",
       "      <td>22016</td>\n",
       "      <td>4</td>\n",
       "      <td>PHX</td>\n",
       "      <td>1610612756</td>\n",
       "      <td>Phoenix Suns</td>\n",
       "      <td>9</td>\n",
       "      <td>1</td>\n",
       "      <td>W</td>\n",
       "    </tr>\n",
       "    <tr>\n",
       "      <th>98</th>\n",
       "      <td>21</td>\n",
       "      <td>2</td>\n",
       "      <td>20</td>\n",
       "      <td>24</td>\n",
       "      <td>10</td>\n",
       "      <td>0.417</td>\n",
       "      <td>89</td>\n",
       "      <td>48</td>\n",
       "      <td>0.539</td>\n",
       "      <td>17</td>\n",
       "      <td>14</td>\n",
       "      <td>0.824</td>\n",
       "      <td>2017-01-26</td>\n",
       "      <td>0021600692</td>\n",
       "      <td>PHX @ DEN</td>\n",
       "      <td>240</td>\n",
       "      <td>8</td>\n",
       "      <td>26</td>\n",
       "      <td>-7</td>\n",
       "      <td>120</td>\n",
       "      <td>28</td>\n",
       "      <td>22016</td>\n",
       "      <td>8</td>\n",
       "      <td>PHX</td>\n",
       "      <td>1610612756</td>\n",
       "      <td>Phoenix Suns</td>\n",
       "      <td>11</td>\n",
       "      <td>1</td>\n",
       "      <td>L</td>\n",
       "    </tr>\n",
       "  </tbody>\n",
       "</table>\n",
       "</div>"
      ],
      "text/plain": [
       "<div>\n",
       "<table border=\"1\" class=\"dataframe\">\n",
       "  <thead>\n",
       "    <tr style=\"text-align: right;\">\n",
       "      <th></th>\n",
       "      <th>AST</th>\n",
       "      <th>BLK</th>\n",
       "      <th>DREB</th>\n",
       "      <th>FG3A</th>\n",
       "      <th>FG3M</th>\n",
       "      <th>FG3_PCT</th>\n",
       "      <th>FGA</th>\n",
       "      <th>FGM</th>\n",
       "      <th>FG_PCT</th>\n",
       "      <th>FTA</th>\n",
       "      <th>FTM</th>\n",
       "      <th>FT_PCT</th>\n",
       "      <th>GAME_DATE</th>\n",
       "      <th>GAME_ID</th>\n",
       "      <th>MATCHUP</th>\n",
       "      <th>MIN</th>\n",
       "      <th>OREB</th>\n",
       "      <th>PF</th>\n",
       "      <th>PLUS_MINUS</th>\n",
       "      <th>PTS</th>\n",
       "      <th>REB</th>\n",
       "      <th>SEASON_ID</th>\n",
       "      <th>STL</th>\n",
       "      <th>TEAM_ABBREVIATION</th>\n",
       "      <th>TEAM_ID</th>\n",
       "      <th>TEAM_NAME</th>\n",
       "      <th>TOV</th>\n",
       "      <th>VIDEO_AVAILABLE</th>\n",
       "      <th>WL</th>\n",
       "    </tr>\n",
       "  </thead>\n",
       "  <tbody>\n",
       "    <tr>\n",
       "      <th>54</th>\n",
       "      <td>24</td>\n",
       "      <td>2</td>\n",
       "      <td>30</td>\n",
       "      <td>23</td>\n",
       "      <td>7</td>\n",
       "      <td>0.304</td>\n",
       "      <td>92</td>\n",
       "      <td>49</td>\n",
       "      <td>0.533</td>\n",
       "      <td>24</td>\n",
       "      <td>13</td>\n",
       "      <td>0.542</td>\n",
       "      <td>2017-03-30</td>\n",
       "      <td>0021601124</td>\n",
       "      <td>PHX vs. LAC</td>\n",
       "      <td>240</td>\n",
       "      <td>13</td>\n",
       "      <td>27</td>\n",
       "      <td>-6</td>\n",
       "      <td>118</td>\n",
       "      <td>43</td>\n",
       "      <td>22016</td>\n",
       "      <td>6</td>\n",
       "      <td>PHX</td>\n",
       "      <td>1610612756</td>\n",
       "      <td>Phoenix Suns</td>\n",
       "      <td>14</td>\n",
       "      <td>1</td>\n",
       "      <td>L</td>\n",
       "    </tr>\n",
       "    <tr>\n",
       "      <th>65</th>\n",
       "      <td>27</td>\n",
       "      <td>6</td>\n",
       "      <td>35</td>\n",
       "      <td>24</td>\n",
       "      <td>8</td>\n",
       "      <td>0.333</td>\n",
       "      <td>93</td>\n",
       "      <td>49</td>\n",
       "      <td>0.527</td>\n",
       "      <td>25</td>\n",
       "      <td>15</td>\n",
       "      <td>0.600</td>\n",
       "      <td>2017-02-24</td>\n",
       "      <td>0021600859</td>\n",
       "      <td>PHX @ CHI</td>\n",
       "      <td>265</td>\n",
       "      <td>8</td>\n",
       "      <td>23</td>\n",
       "      <td>-7</td>\n",
       "      <td>121</td>\n",
       "      <td>43</td>\n",
       "      <td>22016</td>\n",
       "      <td>8</td>\n",
       "      <td>PHX</td>\n",
       "      <td>1610612756</td>\n",
       "      <td>Phoenix Suns</td>\n",
       "      <td>19</td>\n",
       "      <td>1</td>\n",
       "      <td>L</td>\n",
       "    </tr>\n",
       "    <tr>\n",
       "      <th>67</th>\n",
       "      <td>32</td>\n",
       "      <td>10</td>\n",
       "      <td>47</td>\n",
       "      <td>24</td>\n",
       "      <td>10</td>\n",
       "      <td>0.417</td>\n",
       "      <td>88</td>\n",
       "      <td>49</td>\n",
       "      <td>0.557</td>\n",
       "      <td>34</td>\n",
       "      <td>29</td>\n",
       "      <td>0.853</td>\n",
       "      <td>2017-02-15</td>\n",
       "      <td>0021600844</td>\n",
       "      <td>PHX vs. LAL</td>\n",
       "      <td>240</td>\n",
       "      <td>12</td>\n",
       "      <td>20</td>\n",
       "      <td>36</td>\n",
       "      <td>137</td>\n",
       "      <td>59</td>\n",
       "      <td>22016</td>\n",
       "      <td>7</td>\n",
       "      <td>PHX</td>\n",
       "      <td>1610612756</td>\n",
       "      <td>Phoenix Suns</td>\n",
       "      <td>15</td>\n",
       "      <td>1</td>\n",
       "      <td>W</td>\n",
       "    </tr>\n",
       "    <tr>\n",
       "      <th>90</th>\n",
       "      <td>25</td>\n",
       "      <td>8</td>\n",
       "      <td>30</td>\n",
       "      <td>19</td>\n",
       "      <td>8</td>\n",
       "      <td>0.421</td>\n",
       "      <td>95</td>\n",
       "      <td>48</td>\n",
       "      <td>0.505</td>\n",
       "      <td>13</td>\n",
       "      <td>11</td>\n",
       "      <td>0.846</td>\n",
       "      <td>2017-02-10</td>\n",
       "      <td>0021600807</td>\n",
       "      <td>PHX vs. CHI</td>\n",
       "      <td>240</td>\n",
       "      <td>13</td>\n",
       "      <td>18</td>\n",
       "      <td>18</td>\n",
       "      <td>115</td>\n",
       "      <td>43</td>\n",
       "      <td>22016</td>\n",
       "      <td>4</td>\n",
       "      <td>PHX</td>\n",
       "      <td>1610612756</td>\n",
       "      <td>Phoenix Suns</td>\n",
       "      <td>9</td>\n",
       "      <td>1</td>\n",
       "      <td>W</td>\n",
       "    </tr>\n",
       "    <tr>\n",
       "      <th>98</th>\n",
       "      <td>21</td>\n",
       "      <td>2</td>\n",
       "      <td>20</td>\n",
       "      <td>24</td>\n",
       "      <td>10</td>\n",
       "      <td>0.417</td>\n",
       "      <td>89</td>\n",
       "      <td>48</td>\n",
       "      <td>0.539</td>\n",
       "      <td>17</td>\n",
       "      <td>14</td>\n",
       "      <td>0.824</td>\n",
       "      <td>2017-01-26</td>\n",
       "      <td>0021600692</td>\n",
       "      <td>PHX @ DEN</td>\n",
       "      <td>240</td>\n",
       "      <td>8</td>\n",
       "      <td>26</td>\n",
       "      <td>-7</td>\n",
       "      <td>120</td>\n",
       "      <td>28</td>\n",
       "      <td>22016</td>\n",
       "      <td>8</td>\n",
       "      <td>PHX</td>\n",
       "      <td>1610612756</td>\n",
       "      <td>Phoenix Suns</td>\n",
       "      <td>11</td>\n",
       "      <td>1</td>\n",
       "      <td>L</td>\n",
       "    </tr>\n",
       "  </tbody>\n",
       "</table>\n",
       "</div>"
      ]
     },
     "execution_count": 72,
     "metadata": {},
     "output_type": "execute_result"
    }
   ],
   "source": [
    "suns_logs = gameids2017.ix[gameids2017['TEAM_NAME'].str.contains('Suns')]\n",
    "suns_logs.head()"
   ]
  },
  {
   "cell_type": "markdown",
   "metadata": {},
   "source": [
    "We can verify all of the games are there by checking the shape of the data frame."
   ]
  },
  {
   "cell_type": "code",
   "execution_count": 37,
   "metadata": {
    "collapsed": false
   },
   "outputs": [
    {
     "data": {
      "text/plain": [
       "(82, 29)"
      ]
     },
     "execution_count": 37,
     "metadata": {},
     "output_type": "execute_result"
    }
   ],
   "source": [
    "suns_logs.shape"
   ]
  },
  {
   "cell_type": "code",
   "execution_count": 38,
   "metadata": {},
   "outputs": [
    {
     "data": {
      "text/plain": [
       "array([u'AST', u'BLK', u'DREB', u'FG3A', u'FG3M', u'FG3_PCT', u'FGA',\n       u'FGM', u'FG_PCT', u'FTA', u'FTM', u'FT_PCT', u'GAME_DATE',\n       u'GAME_ID', u'MATCHUP', u'MIN', u'OREB', u'PF', u'PLUS_MINUS',\n       u'PTS', u'REB', u'SEASON_ID', u'STL', u'TEAM_ABBREVIATION',\n       u'TEAM_ID', u'TEAM_NAME', u'TOV', u'VIDEO_AVAILABLE', u'WL'], dtype=object)"
      ]
     },
     "execution_count": 38,
     "metadata": {},
     "output_type": "execute_result"
    }
   ],
   "source": [
    "gameids2017.columns.values"
   ]
  },
  {
   "cell_type": "code",
   "execution_count": 202,
   "metadata": {
    "collapsed": false
   },
   "outputs": [],
   "source": [
    ""
   ]
  },
  {
   "cell_type": "code",
   "execution_count": 202,
   "metadata": {},
   "outputs": [],
   "source": [
    "# game_team_2017 = gameids2017.groupby(\"TEAM_NAME\")\n",
    "# team_2017 = game_team_2017.apply(lambda x: x.sort_values('GAME_DATE'))"
   ]
  },
  {
   "cell_type": "code",
   "execution_count": 203,
   "metadata": {},
   "outputs": [],
   "source": [
    "# num_team = 30; num_games = 82\n",
    "# matrix = []\n",
    "# names = []\n",
    "# for i in range(0,num_team):\n",
    "#     matrix.append(team_2017.iloc[0+num_games*i:num_games*(i+1)].to_dict('records'))\n",
    "#     names.append(team_2017.iloc[num_games*i][\"TEAM_NAME\"])"
   ]
  },
  {
   "cell_type": "code",
   "execution_count": 204,
   "metadata": {},
   "outputs": [],
   "source": [
    "# new = pd.DataFrame(matrix,index = names,columns = range(1,num_games+1))"
   ]
  },
  {
   "cell_type": "code",
   "execution_count": 205,
   "metadata": {},
   "outputs": [],
   "source": [
    ""
   ]
  },
  {
   "cell_type": "code",
   "execution_count": 205,
   "metadata": {},
   "outputs": [],
   "source": [
    "def To_matrix(game_df):\n",
    "    game_group = game_df.sort_values(\"TEAM_NAME\").groupby(\"TEAM_NAME\")\n",
    "    game_sort = game_group.apply(lambda x: x.sort_values('GAME_DATE'))\n",
    "    num_team = 30; num_games = 82\n",
    "    matrix = []\n",
    "    names = []\n",
    "    for i in range(0,num_team):\n",
    "        matrix.append(game_sort.iloc[0+num_games*i:num_games*(i+1)].to_dict('records'))\n",
    "        names.append(game_sort.iloc[num_games*i][\"TEAM_NAME\"])\n",
    "    new_game_df = pd.DataFrame(matrix,index = names,columns = range(1,num_games+1))\n",
    "    return new_game_df"
   ]
  },
  {
   "cell_type": "code",
   "execution_count": 206,
   "metadata": {},
   "outputs": [],
   "source": [
    "game_2014 = goldsberry.GameIDs(Season = \"2014-15\")\n",
    "new_game_2014 = To_matrix(pd.DataFrame(game_2014.game_list()))"
   ]
  },
  {
   "cell_type": "code",
   "execution_count": 207,
   "metadata": {},
   "outputs": [
    {
     "data": {
      "text/plain": [
       "{u'AST': 26,\n u'BLK': 8,\n u'DREB': 32,\n u'FG3A': 22,\n u'FG3M': 13,\n u'FG3_PCT': 0.591,\n u'FGA': 80,\n u'FGM': 40,\n u'FG_PCT': 0.5,\n u'FTA': 17,\n u'FTM': 9,\n u'FT_PCT': 0.529,\n u'GAME_DATE': u'2014-10-29',\n u'GAME_ID': u'0021400008',\n u'MATCHUP': u'ATL @ TOR',\n u'MIN': 240,\n u'OREB': 10,\n u'PF': 24,\n u'PLUS_MINUS': -7,\n u'PTS': 102,\n u'REB': 42,\n u'SEASON_ID': u'22014',\n u'STL': 6,\n u'TEAM_ABBREVIATION': u'ATL',\n u'TEAM_ID': 1610612737,\n u'TEAM_NAME': u'Atlanta Hawks',\n u'TOV': 19,\n u'VIDEO_AVAILABLE': 1,\n u'WL': u'L'}"
      ]
     },
     "execution_count": 207,
     "metadata": {},
     "output_type": "execute_result"
    }
   ],
   "source": [
    "new_game_2014.head().loc[\"Atlanta Hawks\",1]"
   ]
  },
  {
   "cell_type": "code",
   "execution_count": null,
   "metadata": {},
   "outputs": [],
   "source": [
    ""
   ]
  }
 ],
 "metadata": {
  "kernelspec": {
   "display_name": "Python 2",
   "language": "python",
   "name": "python2"
  },
  "language_info": {
   "codemirror_mode": {
    "name": "ipython",
    "version": 2.0
   },
   "file_extension": ".py",
   "mimetype": "text/x-python",
   "name": "python",
   "nbconvert_exporter": "python",
   "pygments_lexer": "ipython2",
   "version": "2.7.11"
  }
 },
 "nbformat": 4,
 "nbformat_minor": 0
}